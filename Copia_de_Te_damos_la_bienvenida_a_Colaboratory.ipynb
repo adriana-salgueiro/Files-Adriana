{
  "cells": [
    {
      "cell_type": "markdown",
      "metadata": {
        "id": "view-in-github",
        "colab_type": "text"
      },
      "source": [
        "<a href=\"https://colab.research.google.com/github/adriana-salgueiro/Files-Adriana/blob/main/Copia_de_Te_damos_la_bienvenida_a_Colaboratory.ipynb\" target=\"_parent\"><img src=\"https://colab.research.google.com/assets/colab-badge.svg\" alt=\"Open In Colab\"/></a>"
      ]
    },
    {
      "cell_type": "code",
      "source": [
        "import this\n"
      ],
      "metadata": {
        "colab": {
          "base_uri": "https://localhost:8080/"
        },
        "id": "AOFThlqFfQJG",
        "outputId": "839fdad9-6f5f-4d28-a6f9-454c00670dd1"
      },
      "execution_count": null,
      "outputs": [
        {
          "output_type": "stream",
          "name": "stdout",
          "text": [
            "The Zen of Python, by Tim Peters\n",
            "\n",
            "Beautiful is better than ugly.\n",
            "Explicit is better than implicit.\n",
            "Simple is better than complex.\n",
            "Complex is better than complicated.\n",
            "Flat is better than nested.\n",
            "Sparse is better than dense.\n",
            "Readability counts.\n",
            "Special cases aren't special enough to break the rules.\n",
            "Although practicality beats purity.\n",
            "Errors should never pass silently.\n",
            "Unless explicitly silenced.\n",
            "In the face of ambiguity, refuse the temptation to guess.\n",
            "There should be one-- and preferably only one --obvious way to do it.\n",
            "Although that way may not be obvious at first unless you're Dutch.\n",
            "Now is better than never.\n",
            "Although never is often better than *right* now.\n",
            "If the implementation is hard to explain, it's a bad idea.\n",
            "If the implementation is easy to explain, it may be a good idea.\n",
            "Namespaces are one honking great idea -- let's do more of those!\n"
          ]
        }
      ]
    },
    {
      "cell_type": "markdown",
      "source": [
        "Operaciones matemáticas"
      ],
      "metadata": {
        "id": "UE-VSmFOgmv2"
      }
    },
    {
      "cell_type": "code",
      "execution_count": null,
      "metadata": {
        "colab": {
          "base_uri": "https://localhost:8080/"
        },
        "id": "gJr_9dXGpJ05",
        "outputId": "9b2ed611-4ced-4324-f39a-b8c4c2f4cb78"
      },
      "outputs": [
        {
          "output_type": "execute_result",
          "data": {
            "text/plain": [
              "7.0"
            ]
          },
          "metadata": {},
          "execution_count": 2
        }
      ],
      "source": [
        "2 * 4 - (7 - 1) / 3 + 1.0"
      ]
    },
    {
      "cell_type": "code",
      "execution_count": null,
      "metadata": {
        "colab": {
          "base_uri": "https://localhost:8080/",
          "height": 168
        },
        "id": "-gE-Ez1qtyIA",
        "outputId": "1ad2c72b-b14d-4a1b-ef89-371c390bf1c7"
      },
      "outputs": [
        {
          "output_type": "error",
          "ename": "ZeroDivisionError",
          "evalue": "ignored",
          "traceback": [
            "\u001b[0;31m---------------------------------------------------------------------------\u001b[0m",
            "\u001b[0;31mZeroDivisionError\u001b[0m                         Traceback (most recent call last)",
            "\u001b[0;32m<ipython-input-3-bc757c3fda29>\u001b[0m in \u001b[0;36m<module>\u001b[0;34m()\u001b[0m\n\u001b[0;32m----> 1\u001b[0;31m \u001b[0;36m1\u001b[0m \u001b[0;34m/\u001b[0m \u001b[0;36m0\u001b[0m\u001b[0;34m\u001b[0m\u001b[0;34m\u001b[0m\u001b[0m\n\u001b[0m",
            "\u001b[0;31mZeroDivisionError\u001b[0m: division by zero"
          ]
        }
      ],
      "source": [
        "1 / 0"
      ]
    },
    {
      "cell_type": "code",
      "source": [
        "1.0 / 0.0"
      ],
      "metadata": {
        "colab": {
          "base_uri": "https://localhost:8080/",
          "height": 168
        },
        "id": "y_qG1tbDficy",
        "outputId": "9dd5481b-6bb7-4977-ebc3-80a70dadcd7b"
      },
      "execution_count": null,
      "outputs": [
        {
          "output_type": "error",
          "ename": "ZeroDivisionError",
          "evalue": "ignored",
          "traceback": [
            "\u001b[0;31m---------------------------------------------------------------------------\u001b[0m",
            "\u001b[0;31mZeroDivisionError\u001b[0m                         Traceback (most recent call last)",
            "\u001b[0;32m<ipython-input-4-d5317764bbf2>\u001b[0m in \u001b[0;36m<module>\u001b[0;34m()\u001b[0m\n\u001b[0;32m----> 1\u001b[0;31m \u001b[0;36m1.0\u001b[0m \u001b[0;34m/\u001b[0m \u001b[0;36m0.0\u001b[0m\u001b[0;34m\u001b[0m\u001b[0;34m\u001b[0m\u001b[0m\n\u001b[0m",
            "\u001b[0;31mZeroDivisionError\u001b[0m: float division by zero"
          ]
        }
      ]
    },
    {
      "cell_type": "markdown",
      "source": [
        "Para división"
      ],
      "metadata": {
        "id": "Jnae-T2mghkE"
      }
    },
    {
      "cell_type": "code",
      "source": [
        "3 / 2 "
      ],
      "metadata": {
        "colab": {
          "base_uri": "https://localhost:8080/"
        },
        "id": "jbVszNqLfosa",
        "outputId": "7cddeb1c-eeb9-4720-f318-e831f2d05b26"
      },
      "execution_count": null,
      "outputs": [
        {
          "output_type": "execute_result",
          "data": {
            "text/plain": [
              "1.5"
            ]
          },
          "metadata": {},
          "execution_count": 5
        }
      ]
    },
    {
      "cell_type": "markdown",
      "source": [
        "Para una división exacta"
      ],
      "metadata": {
        "id": "PxeEaS10gZ3j"
      }
    },
    {
      "cell_type": "code",
      "source": [
        "3 // 2"
      ],
      "metadata": {
        "id": "88cnOCQXgSZX",
        "outputId": "bd60088a-5a57-4cbc-bfa8-258af3646211",
        "colab": {
          "base_uri": "https://localhost:8080/"
        }
      },
      "execution_count": null,
      "outputs": [
        {
          "output_type": "execute_result",
          "data": {
            "text/plain": [
              "1"
            ]
          },
          "metadata": {},
          "execution_count": 6
        }
      ]
    },
    {
      "cell_type": "markdown",
      "source": [
        "Resolución de numeros complejos"
      ],
      "metadata": {
        "id": "031JSN_Ag1eV"
      }
    },
    {
      "cell_type": "code",
      "source": [
        "2 + 3j"
      ],
      "metadata": {
        "id": "fK4MKp7dgXz4",
        "outputId": "3f5c20fc-c616-4157-ae2b-90aef6fe411e",
        "colab": {
          "base_uri": "https://localhost:8080/"
        }
      },
      "execution_count": null,
      "outputs": [
        {
          "output_type": "execute_result",
          "data": {
            "text/plain": [
              "(2+3j)"
            ]
          },
          "metadata": {},
          "execution_count": 7
        }
      ]
    },
    {
      "cell_type": "code",
      "source": [
        "(3 + 2j) * (1 - 1j)"
      ],
      "metadata": {
        "id": "8OrANXxRg7pc",
        "outputId": "793c9162-24b2-4134-e5a6-2cf1aebaa09a",
        "colab": {
          "base_uri": "https://localhost:8080/"
        }
      },
      "execution_count": null,
      "outputs": [
        {
          "output_type": "execute_result",
          "data": {
            "text/plain": [
              "(5-1j)"
            ]
          },
          "metadata": {},
          "execution_count": 8
        }
      ]
    },
    {
      "cell_type": "code",
      "source": [
        "(1j) ** 2"
      ],
      "metadata": {
        "id": "2gOgmuLZhAo3",
        "outputId": "73d1e36a-89be-4228-eaf2-6db6c380173f",
        "colab": {
          "base_uri": "https://localhost:8080/"
        }
      },
      "execution_count": null,
      "outputs": [
        {
          "output_type": "execute_result",
          "data": {
            "text/plain": [
              "(-1+0j)"
            ]
          },
          "metadata": {},
          "execution_count": 9
        }
      ]
    },
    {
      "cell_type": "markdown",
      "source": [
        "Hallar valor absoluto"
      ],
      "metadata": {
        "id": "o4RWsQDYhj5z"
      }
    },
    {
      "cell_type": "code",
      "source": [
        "abs(3 + 2j)"
      ],
      "metadata": {
        "id": "Tyo7nOLshpRM",
        "outputId": "c17b34ff-bdeb-46d6-c050-a4e722f784ce",
        "colab": {
          "base_uri": "https://localhost:8080/"
        }
      },
      "execution_count": null,
      "outputs": [
        {
          "output_type": "execute_result",
          "data": {
            "text/plain": [
              "3.605551275463989"
            ]
          },
          "metadata": {},
          "execution_count": 10
        }
      ]
    },
    {
      "cell_type": "markdown",
      "source": [
        "Para conversiones entre tipo numérico."
      ],
      "metadata": {
        "id": "Jc_aA0jAh7a6"
      }
    },
    {
      "cell_type": "code",
      "source": [
        "_10"
      ],
      "metadata": {
        "id": "H2Brv1oVh-Xq",
        "outputId": "591a8db9-2613-4e7f-92ba-cdb6816c99a7",
        "colab": {
          "base_uri": "https://localhost:8080/"
        }
      },
      "execution_count": null,
      "outputs": [
        {
          "output_type": "execute_result",
          "data": {
            "text/plain": [
              "3.605551275463989"
            ]
          },
          "metadata": {},
          "execution_count": 11
        }
      ]
    },
    {
      "cell_type": "code",
      "source": [
        "int(_)"
      ],
      "metadata": {
        "id": "l3NMmUyniJYz",
        "outputId": "b36c47a9-d845-4e04-9cc1-5a8385f83e29",
        "colab": {
          "base_uri": "https://localhost:8080/"
        }
      },
      "execution_count": null,
      "outputs": [
        {
          "output_type": "execute_result",
          "data": {
            "text/plain": [
              "3"
            ]
          },
          "metadata": {},
          "execution_count": 12
        }
      ]
    },
    {
      "cell_type": "code",
      "source": [
        "round(_10)"
      ],
      "metadata": {
        "id": "JCiUWuWWiNjM",
        "outputId": "9c436907-0779-4b49-8941-5c3656953c1a",
        "colab": {
          "base_uri": "https://localhost:8080/"
        }
      },
      "execution_count": null,
      "outputs": [
        {
          "output_type": "execute_result",
          "data": {
            "text/plain": [
              "4"
            ]
          },
          "metadata": {},
          "execution_count": 13
        }
      ]
    },
    {
      "cell_type": "code",
      "source": [
        "float(_)"
      ],
      "metadata": {
        "id": "8lf-JrKuiRXw",
        "outputId": "bafb53a6-4fb8-4c98-e119-e8099b046cbd",
        "colab": {
          "base_uri": "https://localhost:8080/"
        }
      },
      "execution_count": null,
      "outputs": [
        {
          "output_type": "execute_result",
          "data": {
            "text/plain": [
              "4.0"
            ]
          },
          "metadata": {},
          "execution_count": 14
        }
      ]
    },
    {
      "cell_type": "code",
      "source": [
        "complex(_)"
      ],
      "metadata": {
        "id": "H7vi7D50iUXz",
        "outputId": "87b6b6f1-7cdd-4fe3-988a-5812b8727e31",
        "colab": {
          "base_uri": "https://localhost:8080/"
        }
      },
      "execution_count": null,
      "outputs": [
        {
          "output_type": "execute_result",
          "data": {
            "text/plain": [
              "(4+0j)"
            ]
          },
          "metadata": {},
          "execution_count": 15
        }
      ]
    },
    {
      "cell_type": "markdown",
      "source": [
        "Hallar máximos y mínimos en serie de números"
      ],
      "metadata": {
        "id": "fF5bEaVjiZZB"
      }
    },
    {
      "cell_type": "code",
      "source": [
        "max(0, -1, 1, 2)"
      ],
      "metadata": {
        "id": "A950E9v6icpy",
        "outputId": "226a81ab-b13c-45a6-a585-9ac5515d24c4",
        "colab": {
          "base_uri": "https://localhost:8080/"
        }
      },
      "execution_count": null,
      "outputs": [
        {
          "output_type": "execute_result",
          "data": {
            "text/plain": [
              "2"
            ]
          },
          "metadata": {},
          "execution_count": 16
        }
      ]
    },
    {
      "cell_type": "code",
      "source": [
        "min(1, 2, 0, -1)"
      ],
      "metadata": {
        "id": "jO-A2AXuihqt",
        "outputId": "5d5c65f2-195a-4a4d-b0b6-219a6888c8a7",
        "colab": {
          "base_uri": "https://localhost:8080/"
        }
      },
      "execution_count": null,
      "outputs": [
        {
          "output_type": "execute_result",
          "data": {
            "text/plain": [
              "-1"
            ]
          },
          "metadata": {},
          "execution_count": 17
        }
      ]
    },
    {
      "cell_type": "markdown",
      "source": [
        "La asignación de variables funciona con \"=\""
      ],
      "metadata": {
        "id": "EggViZQojVHE"
      }
    },
    {
      "cell_type": "code",
      "source": [
        "a = 1 + 2j"
      ],
      "metadata": {
        "id": "qTBtS4GgjZq8"
      },
      "execution_count": null,
      "outputs": []
    },
    {
      "cell_type": "code",
      "source": [
        "a = 1 + 2j\n",
        "a"
      ],
      "metadata": {
        "id": "nI7oMuNdjfqk",
        "outputId": "9806adb6-16fd-48c0-a2be-25bc0e1eb0ea",
        "colab": {
          "base_uri": "https://localhost:8080/"
        }
      },
      "execution_count": null,
      "outputs": [
        {
          "output_type": "execute_result",
          "data": {
            "text/plain": [
              "(1+2j)"
            ]
          },
          "metadata": {},
          "execution_count": 19
        }
      ]
    },
    {
      "cell_type": "markdown",
      "source": [
        "Es posible encadenar asignación de variables y también asignación múltiple"
      ],
      "metadata": {
        "id": "YVLqri82jmrp"
      }
    },
    {
      "cell_type": "code",
      "source": [
        "x, y = 1, 2\n",
        "x, y"
      ],
      "metadata": {
        "id": "S7K8AokyjrFV",
        "outputId": "c57fc49e-9eec-46b9-ca92-c805603ddb05",
        "colab": {
          "base_uri": "https://localhost:8080/"
        }
      },
      "execution_count": null,
      "outputs": [
        {
          "output_type": "execute_result",
          "data": {
            "text/plain": [
              "(1, 2)"
            ]
          },
          "metadata": {},
          "execution_count": 20
        }
      ]
    },
    {
      "cell_type": "code",
      "source": [
        "x, y = y, x\n",
        "x, y"
      ],
      "metadata": {
        "id": "sIkNb5Jaj5OA",
        "outputId": "b03f3961-3cec-4dd9-ccb2-b2c2b403f575",
        "colab": {
          "base_uri": "https://localhost:8080/"
        }
      },
      "execution_count": null,
      "outputs": [
        {
          "output_type": "execute_result",
          "data": {
            "text/plain": [
              "(2, 1)"
            ]
          },
          "metadata": {},
          "execution_count": 21
        }
      ]
    },
    {
      "cell_type": "markdown",
      "source": [
        "Los operadores de comparación son ==, !=, <, <=, >, >="
      ],
      "metadata": {
        "id": "Twzc3MJkkBXv"
      }
    },
    {
      "cell_type": "code",
      "source": [
        "x, y = 1, 2\n",
        "x, y"
      ],
      "metadata": {
        "id": "VGF9anMMkAyO",
        "outputId": "a0f58904-b14c-4a85-85e2-d725eb147965",
        "colab": {
          "base_uri": "https://localhost:8080/"
        }
      },
      "execution_count": null,
      "outputs": [
        {
          "output_type": "execute_result",
          "data": {
            "text/plain": [
              "(1, 2)"
            ]
          },
          "metadata": {},
          "execution_count": 22
        }
      ]
    },
    {
      "cell_type": "code",
      "source": [
        "print(x == y)"
      ],
      "metadata": {
        "id": "D6bnDa8IkIeC",
        "outputId": "a0d47d8b-d757-4580-be64-67dde253fe4c",
        "colab": {
          "base_uri": "https://localhost:8080/"
        }
      },
      "execution_count": null,
      "outputs": [
        {
          "output_type": "stream",
          "name": "stdout",
          "text": [
            "False\n"
          ]
        }
      ]
    },
    {
      "cell_type": "code",
      "source": [
        "print(x != y)"
      ],
      "metadata": {
        "id": "g9l0RobfkMvP",
        "outputId": "99f434d6-b95d-40f8-e945-11937cb4eee4",
        "colab": {
          "base_uri": "https://localhost:8080/"
        }
      },
      "execution_count": null,
      "outputs": [
        {
          "output_type": "stream",
          "name": "stdout",
          "text": [
            "True\n"
          ]
        }
      ]
    },
    {
      "cell_type": "code",
      "source": [
        "print(x < y)\n",
        "print(x <= y)\n",
        "print(x > y)\n",
        "print(x >= y)"
      ],
      "metadata": {
        "id": "VXmdVDwGkSRJ",
        "outputId": "c6b6050e-005d-4382-d8e6-d15af185ff2c",
        "colab": {
          "base_uri": "https://localhost:8080/"
        }
      },
      "execution_count": null,
      "outputs": [
        {
          "output_type": "stream",
          "name": "stdout",
          "text": [
            "True\n",
            "True\n",
            "False\n",
            "False\n"
          ]
        }
      ]
    },
    {
      "cell_type": "markdown",
      "source": [
        "Si la ordenación no tiene sentido arroja un error"
      ],
      "metadata": {
        "id": "6SUJAyFokpff"
      }
    },
    {
      "cell_type": "code",
      "source": [
        "1 + 1j < 0 + 1j"
      ],
      "metadata": {
        "id": "CXonGARokssx",
        "outputId": "635e3360-d863-41e7-8592-4e44a3280888",
        "colab": {
          "base_uri": "https://localhost:8080/",
          "height": 168
        }
      },
      "execution_count": null,
      "outputs": [
        {
          "output_type": "error",
          "ename": "TypeError",
          "evalue": "ignored",
          "traceback": [
            "\u001b[0;31m---------------------------------------------------------------------------\u001b[0m",
            "\u001b[0;31mTypeError\u001b[0m                                 Traceback (most recent call last)",
            "\u001b[0;32m<ipython-input-26-03aab5663e43>\u001b[0m in \u001b[0;36m<module>\u001b[0;34m()\u001b[0m\n\u001b[0;32m----> 1\u001b[0;31m \u001b[0;36m1\u001b[0m \u001b[0;34m+\u001b[0m \u001b[0;36m1j\u001b[0m \u001b[0;34m<\u001b[0m \u001b[0;36m0\u001b[0m \u001b[0;34m+\u001b[0m \u001b[0;36m1j\u001b[0m\u001b[0;34m\u001b[0m\u001b[0;34m\u001b[0m\u001b[0m\n\u001b[0m",
            "\u001b[0;31mTypeError\u001b[0m: '<' not supported between instances of 'complex' and 'complex'"
          ]
        }
      ]
    },
    {
      "cell_type": "markdown",
      "source": [
        "Duplas y listas"
      ],
      "metadata": {
        "id": "iiXl-Nakk1MJ"
      }
    },
    {
      "cell_type": "code",
      "source": [
        "una_lista = [1, 2, 3.0, 4 + 0j, \"5\"]\n",
        "una_tupla = (1, 2, 3.0, 4 + 0j, \"5\")\n",
        "print(una_lista)\n",
        "print(una_tupla)\n",
        "print(una_lista == una_tupla)"
      ],
      "metadata": {
        "id": "97ocN-Oqk2vc",
        "outputId": "980e13ef-df69-45fe-bb13-facbf5d55614",
        "colab": {
          "base_uri": "https://localhost:8080/"
        }
      },
      "execution_count": null,
      "outputs": [
        {
          "output_type": "stream",
          "name": "stdout",
          "text": [
            "[1, 2, 3.0, (4+0j), '5']\n",
            "(1, 2, 3.0, (4+0j), '5')\n",
            "False\n"
          ]
        }
      ]
    },
    {
      "cell_type": "markdown",
      "source": [
        "En la tupla se puede obviar el paréntesis"
      ],
      "metadata": {
        "id": "POnrVwcZlDtZ"
      }
    },
    {
      "cell_type": "code",
      "source": [
        "1, 2, 3.0"
      ],
      "metadata": {
        "id": "WvYSYc6alH2k",
        "outputId": "282b1db3-59c4-4344-e39d-f7d266662f1d",
        "colab": {
          "base_uri": "https://localhost:8080/"
        }
      },
      "execution_count": null,
      "outputs": [
        {
          "output_type": "execute_result",
          "data": {
            "text/plain": [
              "(1, 2, 3.0)"
            ]
          },
          "metadata": {},
          "execution_count": 28
        }
      ]
    },
    {
      "cell_type": "markdown",
      "source": [
        "Verificar si un número se encuentra en la tupla"
      ],
      "metadata": {
        "id": "39r-PJIXlN82"
      }
    },
    {
      "cell_type": "code",
      "source": [
        "2 in una_tupla"
      ],
      "metadata": {
        "id": "UoPjo0U-lRWC",
        "outputId": "97d6122a-e19a-4d2c-e90c-e93f0963a8bb",
        "colab": {
          "base_uri": "https://localhost:8080/"
        }
      },
      "execution_count": null,
      "outputs": [
        {
          "output_type": "execute_result",
          "data": {
            "text/plain": [
              "True"
            ]
          },
          "metadata": {},
          "execution_count": 29
        }
      ]
    },
    {
      "cell_type": "markdown",
      "source": [
        "Saber la cantidad de elementos con \"len\""
      ],
      "metadata": {
        "id": "ABxe0HewlVwk"
      }
    },
    {
      "cell_type": "code",
      "source": [
        "len(una_lista)"
      ],
      "metadata": {
        "id": "kvFPeqmglaTC",
        "outputId": "305b23d3-daa0-4b2e-f6d9-2cff43de2243",
        "colab": {
          "base_uri": "https://localhost:8080/"
        }
      },
      "execution_count": null,
      "outputs": [
        {
          "output_type": "execute_result",
          "data": {
            "text/plain": [
              "5"
            ]
          },
          "metadata": {},
          "execution_count": 30
        }
      ]
    },
    {
      "cell_type": "markdown",
      "source": [
        "Alterar la secuencia"
      ],
      "metadata": {
        "id": "IoUfwUOPlh8N"
      }
    },
    {
      "cell_type": "code",
      "source": [
        "print(una_lista[0])  # Primer elemento, 1\n",
        "print(una_tupla[1])  # Segundo elemento, 2\n",
        "print(una_lista[0:2])  # Desde el primero hasta el tercero, excluyendo este: 1, 2\n",
        "print(una_tupla[:3])  # Desde el primero hasta el cuarto, excluyendo este: 1, 2, 3.0\n",
        "print(una_lista[-1])  # El último: 4 + 0j\n",
        "print(una_tupla[:])  # Desde el primero hasta el último\n",
        "print(una_lista[::2])  # Desde el primero hasta el último, saltando 2: 1, 3.0"
      ],
      "metadata": {
        "id": "8sOn19Ojlkjp",
        "outputId": "58a9afc5-095c-43c6-8a0a-ae2199031a08",
        "colab": {
          "base_uri": "https://localhost:8080/"
        }
      },
      "execution_count": null,
      "outputs": [
        {
          "output_type": "stream",
          "name": "stdout",
          "text": [
            "1\n",
            "2\n",
            "[1, 2]\n",
            "(1, 2, 3.0)\n",
            "5\n",
            "(1, 2, 3.0, (4+0j), '5')\n",
            "[1, 3.0, '5']\n"
          ]
        }
      ]
    },
    {
      "cell_type": "markdown",
      "source": [
        "Las secuencias se pueden anidar. "
      ],
      "metadata": {
        "id": "rD7e3ZPxLAc3"
      }
    },
    {
      "cell_type": "code",
      "source": [
        "a = [\n",
        " [1, 2, 3],\n",
        " [4, 5],\n",
        "]\n",
        "print(a)\n",
        "print(a[0])\n",
        "print(a[0][0])"
      ],
      "metadata": {
        "id": "kwzNgThdLCn6",
        "outputId": "d1c5df09-ab46-44b6-d093-d2857446b4e0",
        "colab": {
          "base_uri": "https://localhost:8080/"
        }
      },
      "execution_count": null,
      "outputs": [
        {
          "output_type": "stream",
          "name": "stdout",
          "text": [
            "[[1, 2, 3], [4, 5]]\n",
            "[1, 2, 3]\n",
            "1\n"
          ]
        }
      ]
    },
    {
      "cell_type": "markdown",
      "source": [
        "Se pueden crear condicionales"
      ],
      "metadata": {
        "id": "Or2TTtnwLJeY"
      }
    },
    {
      "cell_type": "code",
      "source": [
        "x, y = 1, 2\n",
        "print(x, y)\n",
        "if x < y:\n",
        "    print(\"x es menor que y\")\n",
        "    print(\"x sigue siendo menor que y\")"
      ],
      "metadata": {
        "id": "VEaopbqLLMWx",
        "outputId": "65c45f28-c9e4-43b7-b5fe-3b1e736f7291",
        "colab": {
          "base_uri": "https://localhost:8080/"
        }
      },
      "execution_count": null,
      "outputs": [
        {
          "output_type": "stream",
          "name": "stdout",
          "text": [
            "1 2\n",
            "x es menor que y\n",
            "x sigue siendo menor que y\n"
          ]
        }
      ]
    },
    {
      "cell_type": "code",
      "source": [
        "if 1 < 0:\n",
        "    print(\"1 es menor que 0\")\n",
        "print(\"1 sigue siendo menor que 0\")  # <-- ¡Mal!"
      ],
      "metadata": {
        "id": "d1lOOROGLoLW",
        "outputId": "c1ee3e80-690b-4a77-b2e7-2e67ce015769",
        "colab": {
          "base_uri": "https://localhost:8080/"
        }
      },
      "execution_count": null,
      "outputs": [
        {
          "output_type": "stream",
          "name": "stdout",
          "text": [
            "1 sigue siendo menor que 0\n"
          ]
        }
      ]
    },
    {
      "cell_type": "code",
      "source": [
        "if 1 < 0:\n",
        "    print(\"1 es menor que 0\")\n",
        "    print(\"1 sigue siendo menor que 0\")"
      ],
      "metadata": {
        "id": "rWtaKcFeLv6d",
        "outputId": "272b4558-70e8-4975-ae3f-308a346a2e6d",
        "colab": {
          "base_uri": "https://localhost:8080/",
          "height": 133
        }
      },
      "execution_count": null,
      "outputs": [
        {
          "output_type": "error",
          "ename": "IndentationError",
          "evalue": "ignored",
          "traceback": [
            "\u001b[0;36m  File \u001b[0;32m\"<ipython-input-5-15a0111f71c6>\"\u001b[0;36m, line \u001b[0;32m3\u001b[0m\n\u001b[0;31m    print(\"1 sigue siendo menor que 0\")\u001b[0m\n\u001b[0m    ^\u001b[0m\n\u001b[0;31mIndentationError\u001b[0m\u001b[0;31m:\u001b[0m unexpected indent\n"
          ]
        }
      ]
    },
    {
      "cell_type": "code",
      "source": [
        "print(x, y)\n",
        "if x < y:\n",
        "    print(\"x es menor que y\")\n",
        "elif x == y:\n",
        "    print(\"x es igual a y\")\n",
        "else:\n",
        "    print(\"x no es ni menor ni igual que y\")"
      ],
      "metadata": {
        "id": "0GgXuaWYL-qB",
        "outputId": "7d11b391-5222-438b-df68-0f3c5013e9d4",
        "colab": {
          "base_uri": "https://localhost:8080/"
        }
      },
      "execution_count": null,
      "outputs": [
        {
          "output_type": "stream",
          "name": "stdout",
          "text": [
            "1 2\n",
            "x es menor que y\n"
          ]
        }
      ]
    },
    {
      "cell_type": "markdown",
      "source": [
        "Para realizar bucles"
      ],
      "metadata": {
        "id": "C_lFAq87MCbz"
      }
    },
    {
      "cell_type": "code",
      "source": [
        "ii = 0\n",
        "while ii < 5:\n",
        "    print(ii)\n",
        "    ii += 1"
      ],
      "metadata": {
        "id": "VVkZulGkMEoI",
        "outputId": "3d214833-ef57-4658-8195-8b17ab595574",
        "colab": {
          "base_uri": "https://localhost:8080/"
        }
      },
      "execution_count": null,
      "outputs": [
        {
          "output_type": "stream",
          "name": "stdout",
          "text": [
            "0\n",
            "1\n",
            "2\n",
            "3\n",
            "4\n"
          ]
        }
      ]
    },
    {
      "cell_type": "markdown",
      "source": [
        "También se interrumpe el bucle con \"break\""
      ],
      "metadata": {
        "id": "IQC1W376MIJ4"
      }
    },
    {
      "cell_type": "code",
      "source": [
        "ii = 0\n",
        "while ii < 5:\n",
        "    print(ii)\n",
        "    ii += 1\n",
        "    if ii == 3:\n",
        "        break"
      ],
      "metadata": {
        "id": "Kf9Y9VfJMMtC",
        "outputId": "7ce14f84-5612-4ac3-d4c3-a6add47c49bf",
        "colab": {
          "base_uri": "https://localhost:8080/"
        }
      },
      "execution_count": null,
      "outputs": [
        {
          "output_type": "stream",
          "name": "stdout",
          "text": [
            "0\n",
            "1\n",
            "2\n"
          ]
        }
      ]
    },
    {
      "cell_type": "markdown",
      "source": [
        "Condicionantes con bucles"
      ],
      "metadata": {
        "id": "sAMP-aKZMRZc"
      }
    },
    {
      "cell_type": "code",
      "source": [
        "ii = 0\n",
        "while ii < 5:\n",
        "    print(ii)\n",
        "    ii += 1\n",
        "    if ii == 3:\n",
        "        break\n",
        "else:\n",
        "    print(\"El bucle ha terminado\")"
      ],
      "metadata": {
        "id": "qffXNiIuMUck",
        "outputId": "bcea65c3-cad4-460f-d280-7414a61e73aa",
        "colab": {
          "base_uri": "https://localhost:8080/"
        }
      },
      "execution_count": null,
      "outputs": [
        {
          "output_type": "stream",
          "name": "stdout",
          "text": [
            "0\n",
            "1\n",
            "2\n"
          ]
        }
      ]
    },
    {
      "cell_type": "code",
      "source": [
        "ii = 0\n",
        "while ii < 5:\n",
        "    print(ii)\n",
        "    ii += 1\n",
        "    #if ii == 3:\n",
        "        #break\n",
        "else:\n",
        "    print(\"El bucle ha terminado\")"
      ],
      "metadata": {
        "id": "YegKH4a5MbHN",
        "outputId": "8ce7811e-4107-4a03-aebc-0d3e0b5f82a5",
        "colab": {
          "base_uri": "https://localhost:8080/"
        }
      },
      "execution_count": null,
      "outputs": [
        {
          "output_type": "stream",
          "name": "stdout",
          "text": [
            "0\n",
            "1\n",
            "2\n",
            "3\n",
            "4\n",
            "El bucle ha terminado\n"
          ]
        }
      ]
    },
    {
      "cell_type": "code",
      "source": [
        "for ii in 1, 2, 4:\n",
        "    print(ii)"
      ],
      "metadata": {
        "id": "JlurYYQYMg4l",
        "outputId": "2ec1b2c5-51b8-4c55-af73-2dbd0e95ffca",
        "colab": {
          "base_uri": "https://localhost:8080/"
        }
      },
      "execution_count": null,
      "outputs": [
        {
          "output_type": "stream",
          "name": "stdout",
          "text": [
            "1\n",
            "2\n",
            "4\n"
          ]
        }
      ]
    },
    {
      "cell_type": "code",
      "source": [
        "for nombre in \"Juan\", \"Luis\", \"Carlos\":\n",
        "    print(nombre)"
      ],
      "metadata": {
        "id": "Cfj7rx-mMsc4",
        "outputId": "21458e17-399c-4662-bf57-3bf391abe996",
        "colab": {
          "base_uri": "https://localhost:8080/"
        }
      },
      "execution_count": null,
      "outputs": [
        {
          "output_type": "stream",
          "name": "stdout",
          "text": [
            "Juan\n",
            "Luis\n",
            "Carlos\n"
          ]
        }
      ]
    },
    {
      "cell_type": "markdown",
      "source": [
        "Para recorrer un rango de números"
      ],
      "metadata": {
        "id": "SX8ScNPNMzOU"
      }
    },
    {
      "cell_type": "code",
      "source": [
        "for ii in range(3):\n",
        "    print(ii)"
      ],
      "metadata": {
        "id": "mzlfReE9M1fP",
        "outputId": "2f89b114-a163-4e49-955b-2584a1c6d72a",
        "colab": {
          "base_uri": "https://localhost:8080/"
        }
      },
      "execution_count": null,
      "outputs": [
        {
          "output_type": "stream",
          "name": "stdout",
          "text": [
            "0\n",
            "1\n",
            "2\n"
          ]
        }
      ]
    },
    {
      "cell_type": "code",
      "source": [
        "for jj in range(2, 5):\n",
        "    print(jj)"
      ],
      "metadata": {
        "id": "TcRZMAzsM-C-",
        "outputId": "556a005a-e69a-47ea-e94e-a7baeb000b9f",
        "colab": {
          "base_uri": "https://localhost:8080/"
        }
      },
      "execution_count": null,
      "outputs": [
        {
          "output_type": "stream",
          "name": "stdout",
          "text": [
            "2\n",
            "3\n",
            "4\n"
          ]
        }
      ]
    },
    {
      "cell_type": "markdown",
      "source": [
        "Definición de funciones"
      ],
      "metadata": {
        "id": "qBM_7l0oNGCs"
      }
    },
    {
      "cell_type": "code",
      "source": [
        "def funcion(x, y):\n",
        "    \"\"\"Función de prueba.\"\"\"\n",
        "    pass"
      ],
      "metadata": {
        "id": "awTtk31TNIuI"
      },
      "execution_count": null,
      "outputs": []
    },
    {
      "cell_type": "code",
      "source": [
        "funcion"
      ],
      "metadata": {
        "id": "uYFby_FqNNHj",
        "outputId": "a5606d8a-5b64-425f-87a0-f7f254d179c1",
        "colab": {
          "base_uri": "https://localhost:8080/"
        }
      },
      "execution_count": null,
      "outputs": [
        {
          "output_type": "execute_result",
          "data": {
            "text/plain": [
              "<function __main__.funcion>"
            ]
          },
          "metadata": {},
          "execution_count": 16
        }
      ]
    },
    {
      "cell_type": "code",
      "source": [
        "funcion.__doc__"
      ],
      "metadata": {
        "id": "yG0BFCQqNRC-",
        "outputId": "2f728625-654b-4583-8b74-4d63e4f2d1b4",
        "colab": {
          "base_uri": "https://localhost:8080/",
          "height": 35
        }
      },
      "execution_count": null,
      "outputs": [
        {
          "output_type": "execute_result",
          "data": {
            "application/vnd.google.colaboratory.intrinsic+json": {
              "type": "string"
            },
            "text/plain": [
              "'Función de prueba.'"
            ]
          },
          "metadata": {},
          "execution_count": 17
        }
      ]
    },
    {
      "cell_type": "markdown",
      "source": [
        "Para valores de retorno en la función"
      ],
      "metadata": {
        "id": "zEvgomn7NVNN"
      }
    },
    {
      "cell_type": "code",
      "source": [
        "def al_cuadrado(x):\n",
        "    \"\"\"Función que eleva un número al cuadrado.\"\"\"\n",
        "    y = x ** 2\n",
        "    return y"
      ],
      "metadata": {
        "id": "d7TH6y-aNYVi"
      },
      "execution_count": null,
      "outputs": []
    },
    {
      "cell_type": "code",
      "source": [
        "al_cuadrado(4)"
      ],
      "metadata": {
        "id": "_J0l0v2gNdB7",
        "outputId": "08795933-4639-4f6f-facc-4d78e83750a0",
        "colab": {
          "base_uri": "https://localhost:8080/"
        }
      },
      "execution_count": null,
      "outputs": [
        {
          "output_type": "execute_result",
          "data": {
            "text/plain": [
              "16"
            ]
          },
          "metadata": {},
          "execution_count": 19
        }
      ]
    },
    {
      "cell_type": "code",
      "source": [
        "def multiplica(x, y=2.0):\n",
        "    \"\"\"Multiplica dos números, por defecto el primero por 2.\"\"\"\n",
        "    return x * y\n",
        "\n",
        "multiplica(2, 3)"
      ],
      "metadata": {
        "id": "UXB_bj6zNgdg",
        "outputId": "b55fb10e-cc0b-4077-fedc-cddf7a4f43b8",
        "colab": {
          "base_uri": "https://localhost:8080/"
        }
      },
      "execution_count": null,
      "outputs": [
        {
          "output_type": "execute_result",
          "data": {
            "text/plain": [
              "6"
            ]
          },
          "metadata": {},
          "execution_count": 20
        }
      ]
    },
    {
      "cell_type": "code",
      "source": [
        "multiplica(4)"
      ],
      "metadata": {
        "id": "wPn9XYmqNjS_",
        "outputId": "59d7891a-4aa9-41bf-b594-8860989f2860",
        "colab": {
          "base_uri": "https://localhost:8080/"
        }
      },
      "execution_count": null,
      "outputs": [
        {
          "output_type": "execute_result",
          "data": {
            "text/plain": [
              "8.0"
            ]
          },
          "metadata": {},
          "execution_count": 21
        }
      ]
    },
    {
      "cell_type": "code",
      "source": [
        "multiplica(x, y=1.0)"
      ],
      "metadata": {
        "id": "JOVIb4P9NnA7",
        "outputId": "29ecf62b-51a3-4ac3-e81f-30fc68d9afc5",
        "colab": {
          "base_uri": "https://localhost:8080/"
        }
      },
      "execution_count": null,
      "outputs": [
        {
          "output_type": "execute_result",
          "data": {
            "text/plain": [
              "1.0"
            ]
          },
          "metadata": {},
          "execution_count": 22
        }
      ]
    }
  ],
  "metadata": {
    "colab": {
      "collapsed_sections": [],
      "name": "Copia de Te damos la bienvenida a Colaboratory",
      "provenance": [],
      "include_colab_link": true
    },
    "kernelspec": {
      "display_name": "Python 3",
      "name": "python3"
    }
  },
  "nbformat": 4,
  "nbformat_minor": 0
}